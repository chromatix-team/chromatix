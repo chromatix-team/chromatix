{
 "cells": [
  {
   "attachments": {},
   "cell_type": "markdown",
   "metadata": {},
   "source": [
    "# Polarization\n",
    "\n",
    "In this notebook we'll be explaining the basic ideas behind the implementation of polarization in Chromatix. Currently, we implement polarization through Jones calculus, so we can *only* deal with fully polarized light. We're looking at adding Mueller calculus and more general birefringence. "
   ]
  },
  {
   "attachments": {},
   "cell_type": "markdown",
   "metadata": {},
   "source": [
    "In Chromatix, we have two types of `Field`s: `Scalar` and `Vector`. You can use the former for all your standard scalar diffraction, and the latter for all simulations requiring vectorial calculations. Putting this succintly:\n",
    "\n",
    "- If you don't care about polarization, use `ScalarField` or `ChromaticScalarField`.\n",
    "- If you need polarization, use `VectorField` or `ChromaticVectorField`.\n",
    "\n",
    "There's two main differences between these fields:\n",
    "1. The `ScalarField` has shape `(... height width)`, whereas the `VectorField` has shape `(... height width 3)`. Correspondingly, the `ChromaticScalarField` has shape `(... height width wavelengths)` and the `ChromaticVectorField` has shape `(... height width wavelengths 3)`. As you might guess from this, the 3 components of the electric field are thus placed at the *last* dimension. This makes the last dimension of the `ScalarField` rather useless, but having it significantly simplifies implementation, as every field type has the same rank.\n",
    "2. The `Vector` fields have the `jones_vector` property implemented, which returns the Jones vector at every point in the field.\n",
    "\n",
    "We've implemented all basic retarders and attenuators such as linear (circular) polarizers, and quarter (half) waveplates. For a full list, please see the API, but we'll go through a few below. \n",
    "\n",
    "**Ordering of the components**  Note that most Jones vector and matrix implementations have rank 2, but we use rank 3! As we implement propagation through 3D birefringent samples, we actually need the third component. The order of the components is `[z, y, x]`, where `z` is the propagation direction, so for now this will always be zero. The API we expose for all the Jones calculus automatically takes care of most of this, though.\n"
   ]
  },
  {
   "attachments": {},
   "cell_type": "markdown",
   "metadata": {},
   "source": [
    "## Working with polarized fields"
   ]
  },
  {
   "attachments": {},
   "cell_type": "markdown",
   "metadata": {},
   "source": [
    "All sources can be used to create a polarized field by setting `scalar=False` and specifying a vector of length 3 as the amplitude in the z, y, and x components respectively:"
   ]
  },
  {
   "cell_type": "code",
   "execution_count": 1,
   "metadata": {},
   "outputs": [],
   "source": [
    "import jax.numpy as jnp\n",
    "\n",
    "import chromatix.functional as cf"
   ]
  },
  {
   "cell_type": "code",
   "execution_count": 2,
   "metadata": {},
   "outputs": [],
   "source": [
    "field = cf.plane_wave(\n",
    "    (512, 512),\n",
    "    1.0,\n",
    "    0.532,\n",
    "    amplitude=cf.linear(1 / 2 * jnp.pi),\n",
    "    scalar=False,\n",
    ")"
   ]
  },
  {
   "attachments": {},
   "cell_type": "markdown",
   "metadata": {},
   "source": [
    "Next to `cf.linear`, we've implemented other commonly used initialisers, but you can always give in your own vector - `cf.linear()` just returns a 3-vector (the Jones vector!):"
   ]
  },
  {
   "cell_type": "code",
   "execution_count": 3,
   "metadata": {},
   "outputs": [
    {
     "name": "stdout",
     "output_type": "stream",
     "text": [
      "[ 0.000000e+00+0.j  1.000000e+00+0.j -4.371139e-08+0.j]\n"
     ]
    }
   ],
   "source": [
    "print(cf.linear(1 / 2 * jnp.pi))"
   ]
  },
  {
   "attachments": {},
   "cell_type": "markdown",
   "metadata": {},
   "source": [
    "We can easily pass this field through a linear polarizer:"
   ]
  },
  {
   "cell_type": "code",
   "execution_count": 4,
   "metadata": {},
   "outputs": [],
   "source": [
    "field = cf.linear_polarizer(field, angle=1 / 4 * jnp.pi)"
   ]
  },
  {
   "attachments": {},
   "cell_type": "markdown",
   "metadata": {},
   "source": [
    "And we can check our results using Malus law - the power in the field should be: $$\n",
    "\\cos(1/2\\cdot \\pi - 1/4\\cdot\\pi)^2 =\\cos(1/2 \\pi)^2 = 1/2\n",
    "$$"
   ]
  },
  {
   "cell_type": "code",
   "execution_count": 5,
   "metadata": {},
   "outputs": [
    {
     "name": "stdout",
     "output_type": "stream",
     "text": [
      "0.5\n"
     ]
    }
   ],
   "source": [
    "print(field.power.squeeze())"
   ]
  },
  {
   "attachments": {},
   "cell_type": "markdown",
   "metadata": {},
   "source": [
    "As stated before, we implement all basic and often-used elements (circular, linear, half-wave plates, etc), but all these are wrappers to a single function: `polarizer`. You can simply call `polarizer` directly with the Jones matrix of your choice:"
   ]
  },
  {
   "cell_type": "code",
   "execution_count": 6,
   "metadata": {},
   "outputs": [],
   "source": [
    "field = cf.polarizer(\n",
    "    field, J00=1, J01=0, J10=-1j, J11=1j\n",
    ")  # note that J00 follows standard Jones calculus ordering."
   ]
  },
  {
   "cell_type": "code",
   "execution_count": null,
   "metadata": {},
   "outputs": [],
   "source": []
  }
 ],
 "metadata": {
  "kernelspec": {
   "display_name": "Python 3 (ipykernel)",
   "language": "python",
   "name": "python3"
  },
  "language_info": {
   "codemirror_mode": {
    "name": "ipython",
    "version": 3
   },
   "file_extension": ".py",
   "mimetype": "text/x-python",
   "name": "python",
   "nbconvert_exporter": "python",
   "pygments_lexer": "ipython3",
   "version": "3.13.2"
  }
 },
 "nbformat": 4,
 "nbformat_minor": 4
}
