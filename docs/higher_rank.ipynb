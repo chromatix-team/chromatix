{
 "cells": [
  {
   "cell_type": "markdown",
   "id": "9ae840bd-c9f6-4a3c-8ca1-d69c4d9fb455",
   "metadata": {},
   "source": [
    "# Higher rank batch dimensions on Fields"
   ]
  },
  {
   "cell_type": "markdown",
   "id": "d18cf7ed-6e20-4525-8f68-2a2b434a07fa",
   "metadata": {},
   "source": [
    "Our `Field` objects always have a batch dimension, which makes certain kinds of computations easier (e.g. propagation to multiple depths) without having to add extra dimensions all the time. However, this is not flexible enough for every use case, such as propagation of multiple input fields to multiple depths. This is why we allow more than one batch dimension! A `Field` may have an arbitrary number of batch dimensions (although it is always at least 1), and all of the elements and functions in Chromatix will broadcast appropriately to handle these extra dimensions. This notebook will demonstrate how to use these higher rank batch dimensions, as well as how to customize the broadcasting for trickier cases than what the default behavior allows."
   ]
  },
  {
   "cell_type": "code",
   "execution_count": 1,
   "id": "76566f6d-0b2b-4057-9ebe-daa45c584d76",
   "metadata": {},
   "outputs": [],
   "source": [
    "import jax\n",
    "import jax.numpy as jnp\n",
    "from flax import linen as nn\n",
    "from chex import Array\n",
    "import numpy as np\n",
    "import matplotlib.pyplot as plt\n",
    "\n",
    "import chromatix.functional as cx\n",
    "from chromatix.elements import FFLens, Propagate\n",
    "from chromatix.systems import OpticalSystem\n",
    "from chromatix import Field, ScalarField\n",
    "\n",
    "key = jax.random.PRNGKey(4)"
   ]
  },
  {
   "cell_type": "markdown",
   "id": "a2c474dd-a95b-48c3-8364-72e01aaf77e9",
   "metadata": {},
   "source": [
    "## Creating Fields with more than one batch dimension"
   ]
  },
  {
   "cell_type": "markdown",
   "id": "082b2305-b0ae-441e-8eaf-a21d23fe08f8",
   "metadata": {},
   "source": [
    "The default `ScalarField.create` or `VectorField.create` methods will produce a 5 dimensional `Field` that has only 1 batch dimension if you provide a shape. In order to add batch dimensions, you'll have to create the complex Array yourself:"
   ]
  },
  {
   "cell_type": "code",
   "execution_count": 2,
   "id": "01f3ac53-4061-4f85-ba3a-52181472fe4b",
   "metadata": {},
   "outputs": [
    {
     "name": "stdout",
     "output_type": "stream",
     "text": [
      "(2, 1, 256, 256, 1, 1)\n"
     ]
    }
   ],
   "source": [
    "u = jnp.ones((2, 1, 256, 256, 1, 1))\n",
    "field = ScalarField.create(0.1, 0.532, 1.0, u=u)\n",
    "print(field.shape)"
   ]
  },
  {
   "cell_type": "markdown",
   "id": "98fbeed1-bc68-44ab-9021-6592e88cd94c",
   "metadata": {},
   "source": [
    "Note that this still means that every element of the batch, no matter how many batch dimensions there are, **will all have the same spectrum and spacing**!"
   ]
  },
  {
   "cell_type": "markdown",
   "id": "10b5bb98-080c-4e64-8c81-929f4a1d1376",
   "metadata": {},
   "source": [
    "## Using higher rank Fields"
   ]
  },
  {
   "cell_type": "markdown",
   "id": "e6dd9b8d-4514-4a6b-b627-d711b54000a3",
   "metadata": {},
   "source": [
    "We have created a `Field` here that has two batch dimensions. We now have a batch of two `Field`s with the usual 5 dimensions. Let's see what happens if we try to propagate this higher rank batched `Field` to 5 z values after passing through a lens:"
   ]
  },
  {
   "cell_type": "code",
   "execution_count": 3,
   "id": "6084caa7-c3dd-4421-98db-d34e6ec75b88",
   "metadata": {},
   "outputs": [],
   "source": [
    "system = OpticalSystem([\n",
    "    FFLens(100.0, 1.33, 0.8),\n",
    "    Propagate(jnp.linspace(-25, 25, num=5), 1.33, cache_propagator=True)\n",
    "])\n",
    "params = system.init(key, field)"
   ]
  },
  {
   "cell_type": "code",
   "execution_count": 4,
   "id": "04d49589-16f7-492b-8817-03165137ad80",
   "metadata": {},
   "outputs": [
    {
     "data": {
      "text/plain": [
       "FrozenDict({\n",
       "    state: {\n",
       "        elements_0: {\n",
       "            _NA: (),\n",
       "            _f: (),\n",
       "            _n: (),\n",
       "        },\n",
       "        elements_1: {\n",
       "            _n: (),\n",
       "            _z: (5,),\n",
       "            kernel: (1, 5, 256, 256, 1, 1),\n",
       "        },\n",
       "    },\n",
       "})"
      ]
     },
     "execution_count": 4,
     "metadata": {},
     "output_type": "execute_result"
    }
   ],
   "source": [
    "jax.tree_util.tree_map(lambda x: jnp.array(x).shape, params)"
   ]
  },
  {
   "cell_type": "code",
   "execution_count": 5,
   "id": "bb928b42-2683-47a8-bf16-05c2e7a787c5",
   "metadata": {},
   "outputs": [],
   "source": [
    "result = system.apply(params, field)"
   ]
  },
  {
   "cell_type": "code",
   "execution_count": 6,
   "id": "3de0de5e-f2d2-4141-bad7-1e429f709072",
   "metadata": {},
   "outputs": [
    {
     "data": {
      "text/plain": [
       "(2, 5, 256, 256, 1, 1)"
      ]
     },
     "execution_count": 6,
     "metadata": {},
     "output_type": "execute_result"
    }
   ],
   "source": [
    "result.shape"
   ]
  },
  {
   "cell_type": "markdown",
   "id": "911b0f9d-ef52-431e-a020-2ca831f24e07",
   "metadata": {},
   "source": [
    "We can see that the result is that the resulting 5 depths were broadcasted to the innermost batch dimension, i.e. the original batch dimension. We still have the outer batch dimension of 2. We can see that in this case, the results are identical because each element of the outer batch of 2 was propagated to the same 5 z values:"
   ]
  },
  {
   "cell_type": "code",
   "execution_count": 7,
   "id": "86957669-cf8c-451b-804d-a5c2844de9db",
   "metadata": {},
   "outputs": [
    {
     "data": {
      "image/png": "[encoded data removed]",
      "text/plain": [
       "<Figure size 900x600 with 2 Axes>"
      ]
     },
     "metadata": {
      "needs_background": "light"
     },
     "output_type": "display_data"
    }
   ],
   "source": [
    "fig, axes = plt.subplots(ncols=2, nrows=1, dpi=150)\n",
    "ax = axes[0]\n",
    "ax.imshow(result.intensity[0, 0].squeeze(), vmin=0, cmap=\"afmhot\")\n",
    "ax.axis(\"off\")\n",
    "\n",
    "ax = axes[1]\n",
    "ax.imshow(result.intensity[1, 0].squeeze(), vmin=0, cmap=\"afmhot\")\n",
    "ax.axis(\"off\")\n",
    "\n",
    "plt.show()"
   ]
  },
  {
   "cell_type": "markdown",
   "id": "33e7f2c1-cd74-4da5-b3d4-e7280fe1d3b9",
   "metadata": {},
   "source": [
    "## Combining higher rank Fields with vmap"
   ]
  },
  {
   "cell_type": "markdown",
   "id": "2fd64a3f-97a6-400a-bdd8-03fc358f228d",
   "metadata": {},
   "source": [
    "What if we wanted each element of the outer batch of 2 to be propagated to different z values? The propagation element/functions only accept a 1D array of z values. Luckily, `Field` supports being vmapped, with all its attributes such as `dx` or `spectrum` having their shapes appropriately rearranged dynamically. That means you can simply use `jax.vmap` on a function like so:"
   ]
  },
  {
   "cell_type": "code",
   "execution_count": 8,
   "id": "32bacd2c-3fe2-4f3e-9819-8a24088a09ec",
   "metadata": {},
   "outputs": [],
   "source": [
    "@jax.vmap\n",
    "def vmapped_system(field: Field, zs: Array) -> Field:\n",
    "    field = cx.ff_lens(field, 100.0, 1.33, 0.8)\n",
    "    field = cx.transfer_propagate(field, zs, 1.33, 0)\n",
    "    return field\n",
    "\n",
    "# Using a stack of z values to propagate each element of the batch\n",
    "# to different z values using our vmapped function above\n",
    "result = vmapped_system(field, jnp.stack([jnp.linspace(0, 25, num=5), jnp.linspace(-25, 25, num=5)]))"
   ]
  },
  {
   "cell_type": "code",
   "execution_count": 9,
   "id": "9da1051c-0a53-4d8d-9e87-246eb51ffdda",
   "metadata": {},
   "outputs": [
    {
     "data": {
      "text/plain": [
       "(2, 5, 256, 256, 1, 1)"
      ]
     },
     "execution_count": 9,
     "metadata": {},
     "output_type": "execute_result"
    }
   ],
   "source": [
    "result.shape"
   ]
  },
  {
   "cell_type": "code",
   "execution_count": 10,
   "id": "8bc0b9bc-79c9-4135-878c-162f17857135",
   "metadata": {},
   "outputs": [
    {
     "data": {
      "image/png": "[encoded data removed]",
      "text/plain": [
       "<Figure size 900x600 with 2 Axes>"
      ]
     },
     "metadata": {
      "needs_background": "light"
     },
     "output_type": "display_data"
    }
   ],
   "source": [
    "fig, axes = plt.subplots(ncols=2, nrows=1, dpi=150)\n",
    "ax = axes[0]\n",
    "ax.imshow(result.intensity[0, 0].squeeze(), vmin=0, cmap=\"afmhot\")\n",
    "ax.axis(\"off\")\n",
    "\n",
    "ax = axes[1]\n",
    "ax.imshow(result.intensity[1, 0].squeeze(), vmin=0, cmap=\"afmhot\")\n",
    "ax.axis(\"off\")\n",
    "\n",
    "plt.show()"
   ]
  },
  {
   "cell_type": "markdown",
   "id": "24ed882e-1d82-4d35-8b42-42f59b291f64",
   "metadata": {},
   "source": [
    "And now we see that the propagation was different for each element of the outer batch!"
   ]
  }
 ],
 "metadata": {
  "kernelspec": {
   "display_name": "Python 3",
   "language": "python",
   "name": "python3"
  },
  "language_info": {
   "codemirror_mode": {
    "name": "ipython",
    "version": 3
   },
   "file_extension": ".py",
   "mimetype": "text/x-python",
   "name": "python",
   "nbconvert_exporter": "python",
   "pygments_lexer": "ipython3",
   "version": "3.9.16"
  }
 },
 "nbformat": 4,
 "nbformat_minor": 5
}
