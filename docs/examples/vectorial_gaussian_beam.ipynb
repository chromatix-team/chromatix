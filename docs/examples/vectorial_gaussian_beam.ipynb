{
 "cells": [
  {
   "cell_type": "markdown",
   "id": "297d0fcfc1ab08b9",
   "metadata": {},
   "source": [
    "# High-NA vectorial PSF generation"
   ]
  },
  {
   "cell_type": "code",
   "execution_count": null,
   "id": "ca5d0faaa54691d1",
   "metadata": {
    "ExecuteTime": {
     "end_time": "2025-03-05T16:19:03.933626Z",
     "start_time": "2025-03-05T16:19:03.918085Z"
    }
   },
   "outputs": [],
   "source": [
    "from typing import Optional, Tuple\n",
    "\n",
    "import flax.linen as nn\n",
    "import matplotlib.pyplot as plt\n",
    "import numpy as np\n",
    "from jax import random\n",
    "\n",
    "from chromatix.elements import (\n",
    "    FFLens,\n",
    "    GaussianSource,\n",
    ")\n",
    "\n",
    "key = random.PRNGKey(42)\n",
    "\n",
    "\n",
    "%load_ext autoreload\n",
    "%autoreload 2"
   ]
  },
  {
   "cell_type": "code",
   "execution_count": 2,
   "id": "99c90a0d2bdee290",
   "metadata": {
    "ExecuteTime": {
     "end_time": "2025-03-05T16:23:28.648248Z",
     "start_time": "2025-03-05T16:23:28.641564Z"
    }
   },
   "outputs": [],
   "source": [
    "class HighNAPSF(nn.Module):\n",
    "    ansi_indices = np.arange(1, 11)\n",
    "    camera_shape: Tuple[int, int] = (256, 256)\n",
    "    camera_pixel_pitch: float = 0.125\n",
    "    f: float = 100\n",
    "    NA: float = 1.5\n",
    "    n: float = 1.33\n",
    "    wavelength: float = 0.532\n",
    "    wavelength_ratio: float = 1.0\n",
    "    upsample: int = 4\n",
    "    pad: int = 128\n",
    "    taper_width: Optional[float] = 5\n",
    "\n",
    "    @nn.compact\n",
    "    def __call__(self):\n",
    "        # Some preliminaries\n",
    "        shape = tuple(np.array(self.camera_shape) * self.upsample + self.pad)\n",
    "        spacing = (\n",
    "            self.upsample\n",
    "            * self.f\n",
    "            * self.wavelength\n",
    "            / (self.n * shape[0] * self.camera_pixel_pitch)\n",
    "        )\n",
    "        field = GaussianSource(\n",
    "            shape,\n",
    "            spacing,\n",
    "            self.wavelength,\n",
    "            self.wavelength_ratio,\n",
    "            self.f,\n",
    "            self.n,\n",
    "            self.NA,\n",
    "            power=1e7,\n",
    "            amplitude=np.array([0.0, 0.0, 1.0]),\n",
    "            scalar=False,\n",
    "            envelope_waist=1,\n",
    "        )(z=0)\n",
    "\n",
    "        field = FFLens(self.f, self.n, self.NA)(field)\n",
    "        return field"
   ]
  },
  {
   "cell_type": "code",
   "execution_count": null,
   "id": "a79fe18d2903ffce",
   "metadata": {
    "ExecuteTime": {
     "end_time": "2025-03-05T16:23:30.478759Z",
     "start_time": "2025-03-05T16:23:29.372279Z"
    }
   },
   "outputs": [
    {
     "data": {
      "image/png": "[encoded data removed]",
      "text/plain": [
       "<Figure size 960x720 with 2 Axes>"
      ]
     },
     "metadata": {},
     "output_type": "display_data"
    }
   ],
   "source": [
    "# Initialize model\n",
    "model = HighNAPSF()\n",
    "variables = model.init(key)\n",
    "state = variables[\"state\"]\n",
    "del variables  # delete for memory\n",
    "\n",
    "# Generating data\n",
    "output_field = model.apply({\"state\": state})\n",
    "psf_truth = output_field.intensity\n",
    "\n",
    "plt.figure(dpi=150)\n",
    "plt.imshow(psf_truth.squeeze(), cmap=\"afmhot\")\n",
    "plt.colorbar()\n",
    "plt.title(\"'Measured' PSF\")\n",
    "plt.axis(\"off\")\n",
    "plt.show()"
   ]
  },
  {
   "cell_type": "code",
   "execution_count": null,
   "id": "adc1537758f5ad8a",
   "metadata": {
    "ExecuteTime": {
     "end_time": "2025-03-05T15:55:46.788445Z",
     "start_time": "2025-03-05T15:55:46.785949Z"
    }
   },
   "outputs": [],
   "source": []
  },
  {
   "cell_type": "code",
   "execution_count": null,
   "id": "ec0d6be0e6fc261a",
   "metadata": {},
   "outputs": [],
   "source": []
  }
 ],
 "metadata": {
  "kernelspec": {
   "display_name": ".venv",
   "language": "python",
   "name": "python3"
  },
  "language_info": {
   "codemirror_mode": {
    "name": "ipython",
    "version": 3
   },
   "file_extension": ".py",
   "mimetype": "text/x-python",
   "name": "python",
   "nbconvert_exporter": "python",
   "pygments_lexer": "ipython3",
   "version": "3.11.10"
  }
 },
 "nbformat": 4,
 "nbformat_minor": 5
}
