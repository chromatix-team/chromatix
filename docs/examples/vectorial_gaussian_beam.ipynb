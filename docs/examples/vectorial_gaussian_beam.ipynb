{
 "cells": [
  {
   "cell_type": "markdown",
   "id": "297d0fcfc1ab08b9",
   "metadata": {},
   "source": "# High-NA vectorial PSF generation"
  },
  {
   "cell_type": "code",
   "id": "ca5d0faaa54691d1",
   "metadata": {
    "ExecuteTime": {
     "end_time": "2025-03-05T15:50:40.336980Z",
     "start_time": "2025-03-05T15:50:40.320076Z"
    }
   },
   "source": [
    "from typing import Optional, Tuple\n",
    "\n",
    "import flax.linen as nn\n",
    "import jax.numpy as jnp\n",
    "import matplotlib.pyplot as plt\n",
    "import numpy as np\n",
    "from flax.core import freeze, unfreeze\n",
    "from jax import random\n",
    "\n",
    "from chromatix.elements import (\n",
    "    FFLens,\n",
    "    GaussianSource,\n",
    "    ZernikeAberrations,\n",
    "    trainable,\n",
    ")\n",
    "from chromatix.ops import shot_noise\n",
    "\n",
    "key = random.PRNGKey(42)\n",
    "\n",
    "\n",
    "%load_ext autoreload\n",
    "%autoreload 2"
   ],
   "outputs": [
    {
     "name": "stdout",
     "output_type": "stream",
     "text": [
      "The autoreload extension is already loaded. To reload it, use:\n",
      "  %reload_ext autoreload\n"
     ]
    }
   ],
   "execution_count": 21
  },
  {
   "cell_type": "markdown",
   "id": "4c89509c183af0cd",
   "metadata": {},
   "source": [
    "## Incident field\n",
    "\n",
    "See the gaussian envelope element. "
   ]
  },
  {
   "cell_type": "markdown",
   "id": "1811037a92123f30",
   "metadata": {},
   "source": [
    "## Correction factors\n",
    "\n",
    "Not implemented for now, we use the Zernike aberrations."
   ]
  },
  {
   "cell_type": "markdown",
   "id": "a42e98ba2f5c0147",
   "metadata": {},
   "source": [
    "## Fourier transform\n",
    "\n",
    "Not needed for now, we will use FFLens()."
   ]
  },
  {
   "cell_type": "markdown",
   "id": "feb1736a5252c7f5",
   "metadata": {},
   "source": "## Putting stuff together"
  },
  {
   "cell_type": "code",
   "id": "99c90a0d2bdee290",
   "metadata": {
    "ExecuteTime": {
     "end_time": "2025-03-05T15:50:42.127Z",
     "start_time": "2025-03-05T15:50:42.114747Z"
    }
   },
   "source": [
    "class ZernikePSF(nn.Module):\n",
    "    ansi_indices = np.arange(1, 11)\n",
    "    camera_shape: Tuple[int, int] = (256, 256)\n",
    "    camera_pixel_pitch: float = 0.125\n",
    "    f: float = 100\n",
    "    NA: float = 1.5\n",
    "    n: float = 1.33\n",
    "    wavelength: float = 0.532\n",
    "    wavelength_ratio: float = 1.0\n",
    "    upsample: int = 4\n",
    "    pad: int = 128\n",
    "    taper_width: Optional[float] = 5\n",
    "\n",
    "    @nn.compact\n",
    "    def __call__(self):\n",
    "        # Some preliminaries\n",
    "        shape = tuple(np.array(self.camera_shape) * self.upsample + self.pad)\n",
    "        spacing = (\n",
    "            self.upsample\n",
    "            * self.f\n",
    "            * self.wavelength\n",
    "            / (self.n * shape[0] * self.camera_pixel_pitch)\n",
    "        )\n",
    "\n",
    "        # Actual simulation\n",
    "        # The only learnable parameters are the Zernike coefficients (since we use the trainable flag)\n",
    "\n",
    "        field = GaussianSource(\n",
    "            shape,\n",
    "            spacing,\n",
    "            self.wavelength,\n",
    "            self.wavelength_ratio,\n",
    "            self.f,\n",
    "            self.n,\n",
    "            self.NA,\n",
    "            power=1e7,\n",
    "            amplitude=np.array([0.0, 0.0, 1.0]),\n",
    "            scalar=False,\n",
    "            envelope_waist=1,\n",
    "        )(z=0)\n",
    "\n",
    "        field = ZernikeAberrations(\n",
    "            trainable(jnp.zeros_like(self.ansi_indices, dtype=jnp.float32)),\n",
    "            self.f,\n",
    "            self.n,\n",
    "            self.NA,\n",
    "            self.ansi_indices,\n",
    "        )(field)\n",
    "\n",
    "        field = FFLens(self.f, self.n, self.NA)(field)\n",
    "        return field"
   ],
   "outputs": [],
   "execution_count": 22
  },
  {
   "cell_type": "code",
   "id": "33d9813bd04b7df9",
   "metadata": {
    "ExecuteTime": {
     "end_time": "2025-03-05T15:50:42.408528Z",
     "start_time": "2025-03-05T15:50:42.398545Z"
    }
   },
   "source": [
    "# model = ZernikePSF()\n",
    "# variables = model.init(key)\n",
    "# params, state = variables[\"params\"], variables[\"state\"]\n",
    "# del variables  # delete for memory\n",
    "# print(params)\n",
    "#\n",
    "# # Specify \"ground truth\" parameters for Zernike coefficients\n",
    "# coefficients_truth = jnp.array([0.0, 0.0, 0.0, 0.5, 0, 0, 0, 0, 0, 0])\n",
    "# params_true = unfreeze(params)\n",
    "# params_true[\"ZernikeAberrations_0\"][\"_coefficients\"] = coefficients_truth\n",
    "# params_true = freeze(params_true)\n",
    "# print(params_true)\n",
    "#\n",
    "#\n",
    "# field = model.apply({\"params\": params, \"state\": state})\n",
    "# field.shape"
   ],
   "outputs": [],
   "execution_count": 23
  },
  {
   "cell_type": "markdown",
   "id": "25c82578329700e",
   "metadata": {},
   "source": ""
  },
  {
   "cell_type": "code",
   "id": "a79fe18d2903ffce",
   "metadata": {
    "ExecuteTime": {
     "end_time": "2025-03-05T15:51:40.325331Z",
     "start_time": "2025-03-05T15:51:03.337677Z"
    }
   },
   "source": [
    "# Initialize model\n",
    "model = ZernikePSF()\n",
    "variables = model.init(key)\n",
    "params, state = variables[\"params\"], variables[\"state\"]\n",
    "del variables  # delete for memory\n",
    "\n",
    "# Specify \"ground truth\" parameters for Zernike coefficients\n",
    "coefficients_truth = jnp.array([0.0, 0.0, 0.0, 0, 0, 0, 0, 0, 0, 0])\n",
    "params_true = unfreeze(params)\n",
    "params_true[\"ZernikeAberrations_0\"][\"_coefficients\"] = coefficients_truth\n",
    "params_true = freeze(params_true)\n",
    "\n",
    "# Generating data\n",
    "psf_truth = model.apply({\"params\": params_true, \"state\": state})\n",
    "psf_truth = shot_noise(key, psf_truth.intensity)  # add shot noise\n",
    "# psf_truth = psf_truth.intensity\n",
    "# psf_truth = psf_truth.phase\n",
    "\n",
    "crop = 1000\n",
    "plt.figure(dpi=150)\n",
    "plt.imshow(psf_truth.squeeze(), cmap=\"afmhot\")\n",
    "plt.colorbar()\n",
    "plt.title(\"'Measured' PSF\")\n",
    "plt.axis(\"off\")\n",
    "plt.show()"
   ],
   "outputs": [
    {
     "ename": "KeyboardInterrupt",
     "evalue": "",
     "output_type": "error",
     "traceback": [
      "\u001B[0;31m---------------------------------------------------------------------------\u001B[0m",
      "\u001B[0;31mKeyboardInterrupt\u001B[0m                         Traceback (most recent call last)",
      "Cell \u001B[0;32mIn[25], line 3\u001B[0m\n\u001B[1;32m      1\u001B[0m \u001B[38;5;66;03m# Initialize model\u001B[39;00m\n\u001B[1;32m      2\u001B[0m model \u001B[38;5;241m=\u001B[39m ZernikePSF()\n\u001B[0;32m----> 3\u001B[0m variables \u001B[38;5;241m=\u001B[39m \u001B[43mmodel\u001B[49m\u001B[38;5;241;43m.\u001B[39;49m\u001B[43minit\u001B[49m\u001B[43m(\u001B[49m\u001B[43mkey\u001B[49m\u001B[43m)\u001B[49m\n\u001B[1;32m      4\u001B[0m params, state \u001B[38;5;241m=\u001B[39m variables[\u001B[38;5;124m\"\u001B[39m\u001B[38;5;124mparams\u001B[39m\u001B[38;5;124m\"\u001B[39m], variables[\u001B[38;5;124m\"\u001B[39m\u001B[38;5;124mstate\u001B[39m\u001B[38;5;124m\"\u001B[39m]\n\u001B[1;32m      5\u001B[0m \u001B[38;5;28;01mdel\u001B[39;00m variables  \u001B[38;5;66;03m# delete for memory\u001B[39;00m\n",
      "    \u001B[0;31m[... skipping hidden 1 frame]\u001B[0m\n",
      "File \u001B[0;32m~/PycharmProjects/chromatix/.venv/lib/python3.11/site-packages/flax/linen/module.py:2452\u001B[0m, in \u001B[0;36mModule.init\u001B[0;34m(self, rngs, method, mutable, capture_intermediates, *args, **kwargs)\u001B[0m\n\u001B[1;32m   2321\u001B[0m \u001B[38;5;250m\u001B[39m\u001B[38;5;124;03m\"\"\"Initializes a module method with variables and returns modified variables.\u001B[39;00m\n\u001B[1;32m   2322\u001B[0m \n\u001B[1;32m   2323\u001B[0m \u001B[38;5;124;03m``init`` takes as first argument either a single ``PRNGKey``, or a\u001B[39;00m\n\u001B[0;32m   (...)\u001B[0m\n\u001B[1;32m   2448\u001B[0m \u001B[38;5;124;03m  The initialized variable dict.\u001B[39;00m\n\u001B[1;32m   2449\u001B[0m \u001B[38;5;124;03m\"\"\"\u001B[39;00m\n\u001B[1;32m   2450\u001B[0m Module\u001B[38;5;241m.\u001B[39m_module_checks(\u001B[38;5;28mself\u001B[39m)\n\u001B[0;32m-> 2452\u001B[0m _, v_out \u001B[38;5;241m=\u001B[39m \u001B[38;5;28;43mself\u001B[39;49m\u001B[38;5;241;43m.\u001B[39;49m\u001B[43minit_with_output\u001B[49m\u001B[43m(\u001B[49m\n\u001B[1;32m   2453\u001B[0m \u001B[43m  \u001B[49m\u001B[43mrngs\u001B[49m\u001B[43m,\u001B[49m\n\u001B[1;32m   2454\u001B[0m \u001B[43m  \u001B[49m\u001B[38;5;241;43m*\u001B[39;49m\u001B[43margs\u001B[49m\u001B[43m,\u001B[49m\n\u001B[1;32m   2455\u001B[0m \u001B[43m  \u001B[49m\u001B[43mmethod\u001B[49m\u001B[38;5;241;43m=\u001B[39;49m\u001B[43mmethod\u001B[49m\u001B[43m,\u001B[49m\n\u001B[1;32m   2456\u001B[0m \u001B[43m  \u001B[49m\u001B[43mmutable\u001B[49m\u001B[38;5;241;43m=\u001B[39;49m\u001B[43mmutable\u001B[49m\u001B[43m,\u001B[49m\n\u001B[1;32m   2457\u001B[0m \u001B[43m  \u001B[49m\u001B[43mcapture_intermediates\u001B[49m\u001B[38;5;241;43m=\u001B[39;49m\u001B[43mcapture_intermediates\u001B[49m\u001B[43m,\u001B[49m\n\u001B[1;32m   2458\u001B[0m \u001B[43m  \u001B[49m\u001B[38;5;241;43m*\u001B[39;49m\u001B[38;5;241;43m*\u001B[39;49m\u001B[43mkwargs\u001B[49m\u001B[43m,\u001B[49m\n\u001B[1;32m   2459\u001B[0m \u001B[43m\u001B[49m\u001B[43m)\u001B[49m\n\u001B[1;32m   2460\u001B[0m \u001B[38;5;28;01mreturn\u001B[39;00m v_out\n",
      "    \u001B[0;31m[... skipping hidden 1 frame]\u001B[0m\n",
      "File \u001B[0;32m~/PycharmProjects/chromatix/.venv/lib/python3.11/site-packages/flax/linen/module.py:2304\u001B[0m, in \u001B[0;36mModule.init_with_output\u001B[0;34m(self, rngs, method, mutable, capture_intermediates, *args, **kwargs)\u001B[0m\n\u001B[1;32m   2302\u001B[0m   method \u001B[38;5;241m=\u001B[39m \u001B[38;5;28mself\u001B[39m\u001B[38;5;241m.\u001B[39m\u001B[38;5;21m__call__\u001B[39m\n\u001B[1;32m   2303\u001B[0m method \u001B[38;5;241m=\u001B[39m _get_unbound_fn(method)\n\u001B[0;32m-> 2304\u001B[0m \u001B[38;5;28;01mreturn\u001B[39;00m \u001B[43minit_with_output\u001B[49m\u001B[43m(\u001B[49m\n\u001B[1;32m   2305\u001B[0m \u001B[43m  \u001B[49m\u001B[43mmethod\u001B[49m\u001B[43m,\u001B[49m\n\u001B[1;32m   2306\u001B[0m \u001B[43m  \u001B[49m\u001B[38;5;28;43mself\u001B[39;49m\u001B[43m,\u001B[49m\n\u001B[1;32m   2307\u001B[0m \u001B[43m  \u001B[49m\u001B[43mmutable\u001B[49m\u001B[38;5;241;43m=\u001B[39;49m\u001B[43mmutable\u001B[49m\u001B[43m,\u001B[49m\n\u001B[1;32m   2308\u001B[0m \u001B[43m  \u001B[49m\u001B[43mcapture_intermediates\u001B[49m\u001B[38;5;241;43m=\u001B[39;49m\u001B[43mcapture_intermediates\u001B[49m\u001B[43m,\u001B[49m\n\u001B[1;32m   2309\u001B[0m \u001B[43m\u001B[49m\u001B[43m)\u001B[49m\u001B[43m(\u001B[49m\u001B[43mrngs\u001B[49m\u001B[43m,\u001B[49m\u001B[43m \u001B[49m\u001B[38;5;241;43m*\u001B[39;49m\u001B[43margs\u001B[49m\u001B[43m,\u001B[49m\u001B[43m \u001B[49m\u001B[38;5;241;43m*\u001B[39;49m\u001B[38;5;241;43m*\u001B[39;49m\u001B[43mkwargs\u001B[49m\u001B[43m)\u001B[49m\n",
      "File \u001B[0;32m~/PycharmProjects/chromatix/.venv/lib/python3.11/site-packages/flax/core/scope.py:1115\u001B[0m, in \u001B[0;36minit.<locals>.wrapper\u001B[0;34m(rngs, *args, **kwargs)\u001B[0m\n\u001B[1;32m   1113\u001B[0m   rngs \u001B[38;5;241m=\u001B[39m {\u001B[38;5;124m'\u001B[39m\u001B[38;5;124mparams\u001B[39m\u001B[38;5;124m'\u001B[39m: rngs}\n\u001B[1;32m   1114\u001B[0m init_flags \u001B[38;5;241m=\u001B[39m {\u001B[38;5;241m*\u001B[39m\u001B[38;5;241m*\u001B[39m(flags \u001B[38;5;28;01mif\u001B[39;00m flags \u001B[38;5;129;01mis\u001B[39;00m \u001B[38;5;129;01mnot\u001B[39;00m \u001B[38;5;28;01mNone\u001B[39;00m \u001B[38;5;28;01melse\u001B[39;00m {}), \u001B[38;5;124m'\u001B[39m\u001B[38;5;124minitializing\u001B[39m\u001B[38;5;124m'\u001B[39m: \u001B[38;5;28;01mTrue\u001B[39;00m}\n\u001B[0;32m-> 1115\u001B[0m \u001B[38;5;28;01mreturn\u001B[39;00m \u001B[43mapply\u001B[49m\u001B[43m(\u001B[49m\u001B[43mfn\u001B[49m\u001B[43m,\u001B[49m\u001B[43m \u001B[49m\u001B[43mmutable\u001B[49m\u001B[38;5;241;43m=\u001B[39;49m\u001B[43mmutable\u001B[49m\u001B[43m,\u001B[49m\u001B[43m \u001B[49m\u001B[43mflags\u001B[49m\u001B[38;5;241;43m=\u001B[39;49m\u001B[43minit_flags\u001B[49m\u001B[43m)\u001B[49m\u001B[43m(\u001B[49m\n\u001B[1;32m   1116\u001B[0m \u001B[43m  \u001B[49m\u001B[43m{\u001B[49m\u001B[43m}\u001B[49m\u001B[43m,\u001B[49m\u001B[43m \u001B[49m\u001B[38;5;241;43m*\u001B[39;49m\u001B[43margs\u001B[49m\u001B[43m,\u001B[49m\u001B[43m \u001B[49m\u001B[43mrngs\u001B[49m\u001B[38;5;241;43m=\u001B[39;49m\u001B[43mrngs\u001B[49m\u001B[43m,\u001B[49m\u001B[43m \u001B[49m\u001B[38;5;241;43m*\u001B[39;49m\u001B[38;5;241;43m*\u001B[39;49m\u001B[43mkwargs\u001B[49m\n\u001B[1;32m   1117\u001B[0m \u001B[43m\u001B[49m\u001B[43m)\u001B[49m\n",
      "File \u001B[0;32m~/PycharmProjects/chromatix/.venv/lib/python3.11/site-packages/flax/core/scope.py:1079\u001B[0m, in \u001B[0;36mapply.<locals>.wrapper\u001B[0;34m(variables, rngs, *args, **kwargs)\u001B[0m\n\u001B[1;32m   1074\u001B[0m   \u001B[38;5;28;01mraise\u001B[39;00m errors\u001B[38;5;241m.\u001B[39mApplyScopeInvalidVariablesStructureError(variables)\n\u001B[1;32m   1076\u001B[0m \u001B[38;5;28;01mwith\u001B[39;00m bind(\n\u001B[1;32m   1077\u001B[0m   variables, rngs\u001B[38;5;241m=\u001B[39mrngs, mutable\u001B[38;5;241m=\u001B[39mmutable, flags\u001B[38;5;241m=\u001B[39mflags\n\u001B[1;32m   1078\u001B[0m )\u001B[38;5;241m.\u001B[39mtemporary() \u001B[38;5;28;01mas\u001B[39;00m root:\n\u001B[0;32m-> 1079\u001B[0m   y \u001B[38;5;241m=\u001B[39m \u001B[43mfn\u001B[49m\u001B[43m(\u001B[49m\u001B[43mroot\u001B[49m\u001B[43m,\u001B[49m\u001B[43m \u001B[49m\u001B[38;5;241;43m*\u001B[39;49m\u001B[43margs\u001B[49m\u001B[43m,\u001B[49m\u001B[43m \u001B[49m\u001B[38;5;241;43m*\u001B[39;49m\u001B[38;5;241;43m*\u001B[39;49m\u001B[43mkwargs\u001B[49m\u001B[43m)\u001B[49m\n\u001B[1;32m   1080\u001B[0m \u001B[38;5;28;01mif\u001B[39;00m mutable \u001B[38;5;129;01mis\u001B[39;00m \u001B[38;5;129;01mnot\u001B[39;00m \u001B[38;5;28;01mFalse\u001B[39;00m:\n\u001B[1;32m   1081\u001B[0m   \u001B[38;5;28;01mreturn\u001B[39;00m y, root\u001B[38;5;241m.\u001B[39mmutable_variables()\n",
      "File \u001B[0;32m~/PycharmProjects/chromatix/.venv/lib/python3.11/site-packages/flax/linen/module.py:3093\u001B[0m, in \u001B[0;36minit_with_output.<locals>.scope_fn\u001B[0;34m(scope, *args, **kwargs)\u001B[0m\n\u001B[1;32m   3091\u001B[0m _context\u001B[38;5;241m.\u001B[39mcapture_stack\u001B[38;5;241m.\u001B[39mappend(capture_intermediates)\n\u001B[1;32m   3092\u001B[0m \u001B[38;5;28;01mtry\u001B[39;00m:\n\u001B[0;32m-> 3093\u001B[0m   \u001B[38;5;28;01mreturn\u001B[39;00m \u001B[43mfn\u001B[49m\u001B[43m(\u001B[49m\u001B[43mmodule\u001B[49m\u001B[38;5;241;43m.\u001B[39;49m\u001B[43mclone\u001B[49m\u001B[43m(\u001B[49m\u001B[43mparent\u001B[49m\u001B[38;5;241;43m=\u001B[39;49m\u001B[43mscope\u001B[49m\u001B[43m,\u001B[49m\u001B[43m \u001B[49m\u001B[43m_deep_clone\u001B[49m\u001B[38;5;241;43m=\u001B[39;49m\u001B[38;5;28;43;01mTrue\u001B[39;49;00m\u001B[43m)\u001B[49m\u001B[43m,\u001B[49m\u001B[43m \u001B[49m\u001B[38;5;241;43m*\u001B[39;49m\u001B[43margs\u001B[49m\u001B[43m,\u001B[49m\u001B[43m \u001B[49m\u001B[38;5;241;43m*\u001B[39;49m\u001B[38;5;241;43m*\u001B[39;49m\u001B[43mkwargs\u001B[49m\u001B[43m)\u001B[49m\n\u001B[1;32m   3094\u001B[0m \u001B[38;5;28;01mfinally\u001B[39;00m:\n\u001B[1;32m   3095\u001B[0m   _context\u001B[38;5;241m.\u001B[39mcapture_stack\u001B[38;5;241m.\u001B[39mpop()\n",
      "File \u001B[0;32m~/PycharmProjects/chromatix/.venv/lib/python3.11/site-packages/flax/linen/module.py:699\u001B[0m, in \u001B[0;36mwrap_method_once.<locals>.wrapped_module_method\u001B[0;34m(*args, **kwargs)\u001B[0m\n\u001B[1;32m    697\u001B[0m \u001B[38;5;28;01mif\u001B[39;00m args \u001B[38;5;129;01mand\u001B[39;00m \u001B[38;5;28misinstance\u001B[39m(args[\u001B[38;5;241m0\u001B[39m], Module):\n\u001B[1;32m    698\u001B[0m   \u001B[38;5;28mself\u001B[39m, args \u001B[38;5;241m=\u001B[39m args[\u001B[38;5;241m0\u001B[39m], args[\u001B[38;5;241m1\u001B[39m:]\n\u001B[0;32m--> 699\u001B[0m   \u001B[38;5;28;01mreturn\u001B[39;00m \u001B[38;5;28;43mself\u001B[39;49m\u001B[38;5;241;43m.\u001B[39;49m\u001B[43m_call_wrapped_method\u001B[49m\u001B[43m(\u001B[49m\u001B[43mfun\u001B[49m\u001B[43m,\u001B[49m\u001B[43m \u001B[49m\u001B[43margs\u001B[49m\u001B[43m,\u001B[49m\u001B[43m \u001B[49m\u001B[43mkwargs\u001B[49m\u001B[43m)\u001B[49m\n\u001B[1;32m    700\u001B[0m \u001B[38;5;28;01melse\u001B[39;00m:\n\u001B[1;32m    701\u001B[0m   \u001B[38;5;28;01mreturn\u001B[39;00m fun(\u001B[38;5;241m*\u001B[39margs, \u001B[38;5;241m*\u001B[39m\u001B[38;5;241m*\u001B[39mkwargs)\n",
      "File \u001B[0;32m~/PycharmProjects/chromatix/.venv/lib/python3.11/site-packages/flax/linen/module.py:1216\u001B[0m, in \u001B[0;36mModule._call_wrapped_method\u001B[0;34m(self, fun, args, kwargs)\u001B[0m\n\u001B[1;32m   1214\u001B[0m \u001B[38;5;28;01mif\u001B[39;00m _use_named_call:\n\u001B[1;32m   1215\u001B[0m   \u001B[38;5;28;01mwith\u001B[39;00m jax\u001B[38;5;241m.\u001B[39mnamed_scope(_derive_profiling_name(\u001B[38;5;28mself\u001B[39m, fun)):\n\u001B[0;32m-> 1216\u001B[0m     y \u001B[38;5;241m=\u001B[39m \u001B[43mrun_fun\u001B[49m\u001B[43m(\u001B[49m\u001B[38;5;28;43mself\u001B[39;49m\u001B[43m,\u001B[49m\u001B[43m \u001B[49m\u001B[38;5;241;43m*\u001B[39;49m\u001B[43margs\u001B[49m\u001B[43m,\u001B[49m\u001B[43m \u001B[49m\u001B[38;5;241;43m*\u001B[39;49m\u001B[38;5;241;43m*\u001B[39;49m\u001B[43mkwargs\u001B[49m\u001B[43m)\u001B[49m\n\u001B[1;32m   1217\u001B[0m \u001B[38;5;28;01melse\u001B[39;00m:\n\u001B[1;32m   1218\u001B[0m   y \u001B[38;5;241m=\u001B[39m run_fun(\u001B[38;5;28mself\u001B[39m, \u001B[38;5;241m*\u001B[39margs, \u001B[38;5;241m*\u001B[39m\u001B[38;5;241m*\u001B[39mkwargs)\n",
      "Cell \u001B[0;32mIn[22], line 28\u001B[0m, in \u001B[0;36mZernikePSF.__call__\u001B[0;34m(self)\u001B[0m\n\u001B[1;32m     18\u001B[0m spacing \u001B[38;5;241m=\u001B[39m (\n\u001B[1;32m     19\u001B[0m     \u001B[38;5;28mself\u001B[39m\u001B[38;5;241m.\u001B[39mupsample\n\u001B[1;32m     20\u001B[0m     \u001B[38;5;241m*\u001B[39m \u001B[38;5;28mself\u001B[39m\u001B[38;5;241m.\u001B[39mf\n\u001B[1;32m     21\u001B[0m     \u001B[38;5;241m*\u001B[39m \u001B[38;5;28mself\u001B[39m\u001B[38;5;241m.\u001B[39mwavelength\n\u001B[1;32m     22\u001B[0m     \u001B[38;5;241m/\u001B[39m (\u001B[38;5;28mself\u001B[39m\u001B[38;5;241m.\u001B[39mn \u001B[38;5;241m*\u001B[39m shape[\u001B[38;5;241m0\u001B[39m] \u001B[38;5;241m*\u001B[39m \u001B[38;5;28mself\u001B[39m\u001B[38;5;241m.\u001B[39mcamera_pixel_pitch)\n\u001B[1;32m     23\u001B[0m )\n\u001B[1;32m     25\u001B[0m \u001B[38;5;66;03m# Actual simulation\u001B[39;00m\n\u001B[1;32m     26\u001B[0m \u001B[38;5;66;03m# The only learnable parameters are the Zernike coefficients (since we use the trainable flag)\u001B[39;00m\n\u001B[0;32m---> 28\u001B[0m field \u001B[38;5;241m=\u001B[39m \u001B[43mGaussianSource\u001B[49m\u001B[43m(\u001B[49m\n\u001B[1;32m     29\u001B[0m \u001B[43m    \u001B[49m\u001B[43mshape\u001B[49m\u001B[43m,\u001B[49m\n\u001B[1;32m     30\u001B[0m \u001B[43m    \u001B[49m\u001B[43mspacing\u001B[49m\u001B[43m,\u001B[49m\n\u001B[1;32m     31\u001B[0m \u001B[43m    \u001B[49m\u001B[38;5;28;43mself\u001B[39;49m\u001B[38;5;241;43m.\u001B[39;49m\u001B[43mwavelength\u001B[49m\u001B[43m,\u001B[49m\n\u001B[1;32m     32\u001B[0m \u001B[43m    \u001B[49m\u001B[38;5;28;43mself\u001B[39;49m\u001B[38;5;241;43m.\u001B[39;49m\u001B[43mwavelength_ratio\u001B[49m\u001B[43m,\u001B[49m\n\u001B[1;32m     33\u001B[0m \u001B[43m    \u001B[49m\u001B[38;5;28;43mself\u001B[39;49m\u001B[38;5;241;43m.\u001B[39;49m\u001B[43mf\u001B[49m\u001B[43m,\u001B[49m\n\u001B[1;32m     34\u001B[0m \u001B[43m    \u001B[49m\u001B[38;5;28;43mself\u001B[39;49m\u001B[38;5;241;43m.\u001B[39;49m\u001B[43mn\u001B[49m\u001B[43m,\u001B[49m\n\u001B[1;32m     35\u001B[0m \u001B[43m    \u001B[49m\u001B[38;5;28;43mself\u001B[39;49m\u001B[38;5;241;43m.\u001B[39;49m\u001B[43mNA\u001B[49m\u001B[43m,\u001B[49m\n\u001B[1;32m     36\u001B[0m \u001B[43m    \u001B[49m\u001B[43mpower\u001B[49m\u001B[38;5;241;43m=\u001B[39;49m\u001B[38;5;241;43m1e7\u001B[39;49m\u001B[43m,\u001B[49m\n\u001B[1;32m     37\u001B[0m \u001B[43m    \u001B[49m\u001B[43mamplitude\u001B[49m\u001B[38;5;241;43m=\u001B[39;49m\u001B[43mnp\u001B[49m\u001B[38;5;241;43m.\u001B[39;49m\u001B[43marray\u001B[49m\u001B[43m(\u001B[49m\u001B[43m[\u001B[49m\u001B[38;5;241;43m0.0\u001B[39;49m\u001B[43m,\u001B[49m\u001B[43m \u001B[49m\u001B[38;5;241;43m0.0\u001B[39;49m\u001B[43m,\u001B[49m\u001B[43m \u001B[49m\u001B[38;5;241;43m1.0\u001B[39;49m\u001B[43m]\u001B[49m\u001B[43m)\u001B[49m\u001B[43m,\u001B[49m\n\u001B[1;32m     38\u001B[0m \u001B[43m    \u001B[49m\u001B[43mscalar\u001B[49m\u001B[38;5;241;43m=\u001B[39;49m\u001B[38;5;28;43;01mFalse\u001B[39;49;00m\u001B[43m,\u001B[49m\n\u001B[1;32m     39\u001B[0m \u001B[43m    \u001B[49m\u001B[43menvelope_waist\u001B[49m\u001B[38;5;241;43m=\u001B[39;49m\u001B[38;5;241;43m1\u001B[39;49m\u001B[43m,\u001B[49m\n\u001B[1;32m     40\u001B[0m \u001B[43m\u001B[49m\u001B[43m)\u001B[49m\u001B[43m(\u001B[49m\u001B[43mz\u001B[49m\u001B[38;5;241;43m=\u001B[39;49m\u001B[38;5;241;43m0\u001B[39;49m\u001B[43m)\u001B[49m\n\u001B[1;32m     42\u001B[0m field \u001B[38;5;241m=\u001B[39m ZernikeAberrations(\n\u001B[1;32m     43\u001B[0m     trainable(jnp\u001B[38;5;241m.\u001B[39mzeros_like(\u001B[38;5;28mself\u001B[39m\u001B[38;5;241m.\u001B[39mansi_indices, dtype\u001B[38;5;241m=\u001B[39mjnp\u001B[38;5;241m.\u001B[39mfloat32)),\n\u001B[1;32m     44\u001B[0m     \u001B[38;5;28mself\u001B[39m\u001B[38;5;241m.\u001B[39mf,\n\u001B[0;32m   (...)\u001B[0m\n\u001B[1;32m     47\u001B[0m     \u001B[38;5;28mself\u001B[39m\u001B[38;5;241m.\u001B[39mansi_indices,\n\u001B[1;32m     48\u001B[0m )(field)\n\u001B[1;32m     50\u001B[0m field \u001B[38;5;241m=\u001B[39m FFLens(\u001B[38;5;28mself\u001B[39m\u001B[38;5;241m.\u001B[39mf, \u001B[38;5;28mself\u001B[39m\u001B[38;5;241m.\u001B[39mn, \u001B[38;5;28mself\u001B[39m\u001B[38;5;241m.\u001B[39mNA)(field)\n",
      "File \u001B[0;32m~/PycharmProjects/chromatix/.venv/lib/python3.11/site-packages/flax/linen/module.py:699\u001B[0m, in \u001B[0;36mwrap_method_once.<locals>.wrapped_module_method\u001B[0;34m(*args, **kwargs)\u001B[0m\n\u001B[1;32m    697\u001B[0m \u001B[38;5;28;01mif\u001B[39;00m args \u001B[38;5;129;01mand\u001B[39;00m \u001B[38;5;28misinstance\u001B[39m(args[\u001B[38;5;241m0\u001B[39m], Module):\n\u001B[1;32m    698\u001B[0m   \u001B[38;5;28mself\u001B[39m, args \u001B[38;5;241m=\u001B[39m args[\u001B[38;5;241m0\u001B[39m], args[\u001B[38;5;241m1\u001B[39m:]\n\u001B[0;32m--> 699\u001B[0m   \u001B[38;5;28;01mreturn\u001B[39;00m \u001B[38;5;28;43mself\u001B[39;49m\u001B[38;5;241;43m.\u001B[39;49m\u001B[43m_call_wrapped_method\u001B[49m\u001B[43m(\u001B[49m\u001B[43mfun\u001B[49m\u001B[43m,\u001B[49m\u001B[43m \u001B[49m\u001B[43margs\u001B[49m\u001B[43m,\u001B[49m\u001B[43m \u001B[49m\u001B[43mkwargs\u001B[49m\u001B[43m)\u001B[49m\n\u001B[1;32m    700\u001B[0m \u001B[38;5;28;01melse\u001B[39;00m:\n\u001B[1;32m    701\u001B[0m   \u001B[38;5;28;01mreturn\u001B[39;00m fun(\u001B[38;5;241m*\u001B[39margs, \u001B[38;5;241m*\u001B[39m\u001B[38;5;241m*\u001B[39mkwargs)\n",
      "File \u001B[0;32m~/PycharmProjects/chromatix/.venv/lib/python3.11/site-packages/flax/linen/module.py:1216\u001B[0m, in \u001B[0;36mModule._call_wrapped_method\u001B[0;34m(self, fun, args, kwargs)\u001B[0m\n\u001B[1;32m   1214\u001B[0m \u001B[38;5;28;01mif\u001B[39;00m _use_named_call:\n\u001B[1;32m   1215\u001B[0m   \u001B[38;5;28;01mwith\u001B[39;00m jax\u001B[38;5;241m.\u001B[39mnamed_scope(_derive_profiling_name(\u001B[38;5;28mself\u001B[39m, fun)):\n\u001B[0;32m-> 1216\u001B[0m     y \u001B[38;5;241m=\u001B[39m \u001B[43mrun_fun\u001B[49m\u001B[43m(\u001B[49m\u001B[38;5;28;43mself\u001B[39;49m\u001B[43m,\u001B[49m\u001B[43m \u001B[49m\u001B[38;5;241;43m*\u001B[39;49m\u001B[43margs\u001B[49m\u001B[43m,\u001B[49m\u001B[43m \u001B[49m\u001B[38;5;241;43m*\u001B[39;49m\u001B[38;5;241;43m*\u001B[39;49m\u001B[43mkwargs\u001B[49m\u001B[43m)\u001B[49m\n\u001B[1;32m   1217\u001B[0m \u001B[38;5;28;01melse\u001B[39;00m:\n\u001B[1;32m   1218\u001B[0m   y \u001B[38;5;241m=\u001B[39m run_fun(\u001B[38;5;28mself\u001B[39m, \u001B[38;5;241m*\u001B[39margs, \u001B[38;5;241m*\u001B[39m\u001B[38;5;241m*\u001B[39mkwargs)\n",
      "File \u001B[0;32m~/PycharmProjects/chromatix/src/chromatix/elements/sources.py:138\u001B[0m, in \u001B[0;36mGaussianSource.__call__\u001B[0;34m(self, z)\u001B[0m\n\u001B[1;32m    135\u001B[0m amplitude \u001B[38;5;241m=\u001B[39m register(\u001B[38;5;28mself\u001B[39m, \u001B[38;5;124m\"\u001B[39m\u001B[38;5;124mamplitude\u001B[39m\u001B[38;5;124m\"\u001B[39m)\n\u001B[1;32m    136\u001B[0m offset \u001B[38;5;241m=\u001B[39m register(\u001B[38;5;28mself\u001B[39m, \u001B[38;5;124m\"\u001B[39m\u001B[38;5;124moffset\u001B[39m\u001B[38;5;124m\"\u001B[39m)\n\u001B[0;32m--> 138\u001B[0m \u001B[38;5;28;01mreturn\u001B[39;00m \u001B[43mgaussian_source\u001B[49m\u001B[43m(\u001B[49m\n\u001B[1;32m    139\u001B[0m \u001B[43m    \u001B[49m\u001B[38;5;28;43mself\u001B[39;49m\u001B[38;5;241;43m.\u001B[39;49m\u001B[43mshape\u001B[49m\u001B[43m,\u001B[49m\n\u001B[1;32m    140\u001B[0m \u001B[43m    \u001B[49m\u001B[38;5;28;43mself\u001B[39;49m\u001B[38;5;241;43m.\u001B[39;49m\u001B[43mdx\u001B[49m\u001B[43m,\u001B[49m\n\u001B[1;32m    141\u001B[0m \u001B[43m    \u001B[49m\u001B[38;5;28;43mself\u001B[39;49m\u001B[38;5;241;43m.\u001B[39;49m\u001B[43mspectrum\u001B[49m\u001B[43m,\u001B[49m\n\u001B[1;32m    142\u001B[0m \u001B[43m    \u001B[49m\u001B[38;5;28;43mself\u001B[39;49m\u001B[38;5;241;43m.\u001B[39;49m\u001B[43mspectral_density\u001B[49m\u001B[43m,\u001B[49m\n\u001B[1;32m    143\u001B[0m \u001B[43m    \u001B[49m\u001B[43mz\u001B[49m\u001B[43m,\u001B[49m\n\u001B[1;32m    144\u001B[0m \u001B[43m    \u001B[49m\u001B[43mf\u001B[49m\u001B[43m,\u001B[49m\n\u001B[1;32m    145\u001B[0m \u001B[43m    \u001B[49m\u001B[43mn\u001B[49m\u001B[43m,\u001B[49m\n\u001B[1;32m    146\u001B[0m \u001B[43m    \u001B[49m\u001B[43mNA\u001B[49m\u001B[43m,\u001B[49m\n\u001B[1;32m    147\u001B[0m \u001B[43m    \u001B[49m\u001B[43mpower\u001B[49m\u001B[43m,\u001B[49m\n\u001B[1;32m    148\u001B[0m \u001B[43m    \u001B[49m\u001B[43mamplitude\u001B[49m\u001B[43m,\u001B[49m\n\u001B[1;32m    149\u001B[0m \u001B[43m    \u001B[49m\u001B[43moffset\u001B[49m\u001B[43m,\u001B[49m\n\u001B[1;32m    150\u001B[0m \u001B[43m    \u001B[49m\u001B[38;5;28;43mself\u001B[39;49m\u001B[38;5;241;43m.\u001B[39;49m\u001B[43mscalar\u001B[49m\u001B[43m,\u001B[49m\n\u001B[1;32m    151\u001B[0m \u001B[43m    \u001B[49m\u001B[38;5;28;43mself\u001B[39;49m\u001B[38;5;241;43m.\u001B[39;49m\u001B[43menvelope_waist\u001B[49m\u001B[43m,\u001B[49m\n\u001B[1;32m    152\u001B[0m \u001B[43m\u001B[49m\u001B[43m)\u001B[49m\n",
      "File \u001B[0;32m~/PycharmProjects/chromatix/src/chromatix/functional/sources.py:119\u001B[0m, in \u001B[0;36mgaussian_source\u001B[0;34m(shape, dx, spectrum, spectral_density, z, f, n, NA, power, amplitude, offset, scalar, envelope_waist)\u001B[0m\n\u001B[1;32m    116\u001B[0m field \u001B[38;5;241m=\u001B[39m create(dx, spectrum, spectral_density, shape\u001B[38;5;241m=\u001B[39mshape)\n\u001B[1;32m    118\u001B[0m factor \u001B[38;5;241m=\u001B[39m \u001B[38;5;241m1\u001B[39m \u001B[38;5;241m/\u001B[39m field\u001B[38;5;241m.\u001B[39mgrid\u001B[38;5;241m.\u001B[39mmax(axis\u001B[38;5;241m=\u001B[39m\u001B[38;5;241m0\u001B[39m) \u001B[38;5;241m*\u001B[39m\u001B[38;5;241m*\u001B[39m \u001B[38;5;241m2\u001B[39m \u001B[38;5;241m*\u001B[39m NA\u001B[38;5;241m*\u001B[39m\u001B[38;5;241m*\u001B[39m\u001B[38;5;241m2\u001B[39m \u001B[38;5;241m/\u001B[39m n\u001B[38;5;241m*\u001B[39m\u001B[38;5;241m*\u001B[39m\u001B[38;5;241m2\u001B[39m\n\u001B[0;32m--> 119\u001B[0m sin_theta2 \u001B[38;5;241m=\u001B[39m factor \u001B[38;5;241m*\u001B[39m jnp\u001B[38;5;241m.\u001B[39msum(\u001B[43mfield\u001B[49m\u001B[38;5;241;43m.\u001B[39;49m\u001B[43mgrid\u001B[49m\u001B[38;5;241m*\u001B[39m\u001B[38;5;241m*\u001B[39m\u001B[38;5;241m2\u001B[39m, axis\u001B[38;5;241m=\u001B[39m\u001B[38;5;241m0\u001B[39m)\n\u001B[1;32m    120\u001B[0m cos_theta \u001B[38;5;241m=\u001B[39m jnp\u001B[38;5;241m.\u001B[39msqrt(\u001B[38;5;241m1\u001B[39m \u001B[38;5;241m-\u001B[39m sin_theta2)\n\u001B[1;32m    121\u001B[0m sin_theta \u001B[38;5;241m=\u001B[39m jnp\u001B[38;5;241m.\u001B[39msqrt(sin_theta2)\n",
      "File \u001B[0;32m~/PycharmProjects/chromatix/src/chromatix/field.py:104\u001B[0m, in \u001B[0;36mField.grid\u001B[0;34m(self)\u001B[0m\n\u001B[1;32m     98\u001B[0m N_y, N_x \u001B[38;5;241m=\u001B[39m \u001B[38;5;28mself\u001B[39m\u001B[38;5;241m.\u001B[39mspatial_shape\n\u001B[1;32m     99\u001B[0m grid \u001B[38;5;241m=\u001B[39m jnp\u001B[38;5;241m.\u001B[39mmeshgrid(\n\u001B[1;32m    100\u001B[0m     jnp\u001B[38;5;241m.\u001B[39mlinspace(\u001B[38;5;241m0\u001B[39m, (N_y \u001B[38;5;241m-\u001B[39m \u001B[38;5;241m1\u001B[39m), N_y) \u001B[38;5;241m-\u001B[39m N_y \u001B[38;5;241m/\u001B[39m \u001B[38;5;241m2\u001B[39m,\n\u001B[1;32m    101\u001B[0m     jnp\u001B[38;5;241m.\u001B[39mlinspace(\u001B[38;5;241m0\u001B[39m, (N_x \u001B[38;5;241m-\u001B[39m \u001B[38;5;241m1\u001B[39m), N_x) \u001B[38;5;241m-\u001B[39m N_x \u001B[38;5;241m/\u001B[39m \u001B[38;5;241m2\u001B[39m,\n\u001B[1;32m    102\u001B[0m     indexing\u001B[38;5;241m=\u001B[39m\u001B[38;5;124m\"\u001B[39m\u001B[38;5;124mij\u001B[39m\u001B[38;5;124m\"\u001B[39m,\n\u001B[1;32m    103\u001B[0m )\n\u001B[0;32m--> 104\u001B[0m grid \u001B[38;5;241m=\u001B[39m \u001B[43mrearrange\u001B[49m\u001B[43m(\u001B[49m\u001B[43mgrid\u001B[49m\u001B[43m,\u001B[49m\u001B[43m \u001B[49m\u001B[38;5;124;43m\"\u001B[39;49m\u001B[38;5;124;43md h w -> d \u001B[39;49m\u001B[38;5;124;43m\"\u001B[39;49m\u001B[43m \u001B[49m\u001B[38;5;241;43m+\u001B[39;49m\u001B[43m \u001B[49m\u001B[43m(\u001B[49m\u001B[38;5;124;43m\"\u001B[39;49m\u001B[38;5;124;43m1 \u001B[39;49m\u001B[38;5;124;43m\"\u001B[39;49m\u001B[43m \u001B[49m\u001B[38;5;241;43m*\u001B[39;49m\u001B[43m \u001B[49m\u001B[43m(\u001B[49m\u001B[38;5;28;43mself\u001B[39;49m\u001B[38;5;241;43m.\u001B[39;49m\u001B[43mndim\u001B[49m\u001B[43m \u001B[49m\u001B[38;5;241;43m-\u001B[39;49m\u001B[43m \u001B[49m\u001B[38;5;241;43m4\u001B[39;49m\u001B[43m)\u001B[49m\u001B[43m)\u001B[49m\u001B[43m \u001B[49m\u001B[38;5;241;43m+\u001B[39;49m\u001B[43m \u001B[49m\u001B[38;5;124;43m\"\u001B[39;49m\u001B[38;5;124;43mh w 1 1\u001B[39;49m\u001B[38;5;124;43m\"\u001B[39;49m\u001B[43m)\u001B[49m\n\u001B[1;32m    105\u001B[0m \u001B[38;5;28;01mreturn\u001B[39;00m \u001B[38;5;28mself\u001B[39m\u001B[38;5;241m.\u001B[39mdx \u001B[38;5;241m*\u001B[39m grid\n",
      "File \u001B[0;32m~/PycharmProjects/chromatix/.venv/lib/python3.11/site-packages/einops/einops.py:600\u001B[0m, in \u001B[0;36mrearrange\u001B[0;34m(tensor, pattern, **axes_lengths)\u001B[0m\n\u001B[1;32m    545\u001B[0m \u001B[38;5;28;01mdef\u001B[39;00m\u001B[38;5;250m \u001B[39m\u001B[38;5;21mrearrange\u001B[39m(tensor: Union[Tensor, List[Tensor]], pattern: \u001B[38;5;28mstr\u001B[39m, \u001B[38;5;241m*\u001B[39m\u001B[38;5;241m*\u001B[39maxes_lengths: Size) \u001B[38;5;241m-\u001B[39m\u001B[38;5;241m>\u001B[39m Tensor:\n\u001B[1;32m    546\u001B[0m \u001B[38;5;250m    \u001B[39m\u001B[38;5;124;03m\"\"\"\u001B[39;00m\n\u001B[1;32m    547\u001B[0m \u001B[38;5;124;03m    einops.rearrange is a reader-friendly smart element reordering for multidimensional tensors.\u001B[39;00m\n\u001B[1;32m    548\u001B[0m \u001B[38;5;124;03m    This operation includes functionality of transpose (axes permutation), reshape (view), squeeze, unsqueeze,\u001B[39;00m\n\u001B[0;32m   (...)\u001B[0m\n\u001B[1;32m    598\u001B[0m \n\u001B[1;32m    599\u001B[0m \u001B[38;5;124;03m    \"\"\"\u001B[39;00m\n\u001B[0;32m--> 600\u001B[0m     \u001B[38;5;28;01mreturn\u001B[39;00m \u001B[43mreduce\u001B[49m\u001B[43m(\u001B[49m\u001B[43mtensor\u001B[49m\u001B[43m,\u001B[49m\u001B[43m \u001B[49m\u001B[43mpattern\u001B[49m\u001B[43m,\u001B[49m\u001B[43m \u001B[49m\u001B[43mreduction\u001B[49m\u001B[38;5;241;43m=\u001B[39;49m\u001B[38;5;124;43m\"\u001B[39;49m\u001B[38;5;124;43mrearrange\u001B[39;49m\u001B[38;5;124;43m\"\u001B[39;49m\u001B[43m,\u001B[49m\u001B[43m \u001B[49m\u001B[38;5;241;43m*\u001B[39;49m\u001B[38;5;241;43m*\u001B[39;49m\u001B[43maxes_lengths\u001B[49m\u001B[43m)\u001B[49m\n",
      "File \u001B[0;32m~/PycharmProjects/chromatix/.venv/lib/python3.11/site-packages/einops/einops.py:525\u001B[0m, in \u001B[0;36mreduce\u001B[0;34m(tensor, pattern, reduction, **axes_lengths)\u001B[0m\n\u001B[1;32m    523\u001B[0m         \u001B[38;5;28;01mraise\u001B[39;00m \u001B[38;5;167;01mTypeError\u001B[39;00m(\u001B[38;5;124m\"\u001B[39m\u001B[38;5;124mRearrange/Reduce/Repeat can\u001B[39m\u001B[38;5;124m'\u001B[39m\u001B[38;5;124mt be applied to an empty list\u001B[39m\u001B[38;5;124m\"\u001B[39m)\n\u001B[1;32m    524\u001B[0m     backend \u001B[38;5;241m=\u001B[39m get_backend(tensor[\u001B[38;5;241m0\u001B[39m])\n\u001B[0;32m--> 525\u001B[0m     tensor \u001B[38;5;241m=\u001B[39m \u001B[43mbackend\u001B[49m\u001B[38;5;241;43m.\u001B[39;49m\u001B[43mstack_on_zeroth_dimension\u001B[49m\u001B[43m(\u001B[49m\u001B[43mtensor\u001B[49m\u001B[43m)\u001B[49m\n\u001B[1;32m    526\u001B[0m \u001B[38;5;28;01melse\u001B[39;00m:\n\u001B[1;32m    527\u001B[0m     backend \u001B[38;5;241m=\u001B[39m get_backend(tensor)\n",
      "File \u001B[0;32m~/PycharmProjects/chromatix/.venv/lib/python3.11/site-packages/einops/_backends.py:178\u001B[0m, in \u001B[0;36mNumpyBackend.stack_on_zeroth_dimension\u001B[0;34m(self, tensors)\u001B[0m\n\u001B[1;32m    177\u001B[0m \u001B[38;5;28;01mdef\u001B[39;00m\u001B[38;5;250m \u001B[39m\u001B[38;5;21mstack_on_zeroth_dimension\u001B[39m(\u001B[38;5;28mself\u001B[39m, tensors: \u001B[38;5;28mlist\u001B[39m):\n\u001B[0;32m--> 178\u001B[0m     \u001B[38;5;28;01mreturn\u001B[39;00m \u001B[38;5;28;43mself\u001B[39;49m\u001B[38;5;241;43m.\u001B[39;49m\u001B[43mnp\u001B[49m\u001B[38;5;241;43m.\u001B[39;49m\u001B[43mstack\u001B[49m\u001B[43m(\u001B[49m\u001B[43mtensors\u001B[49m\u001B[43m)\u001B[49m\n",
      "File \u001B[0;32m~/PycharmProjects/chromatix/.venv/lib/python3.11/site-packages/jax/_src/numpy/lax_numpy.py:4480\u001B[0m, in \u001B[0;36mstack\u001B[0;34m(arrays, axis, out, dtype)\u001B[0m\n\u001B[1;32m   4478\u001B[0m   \u001B[38;5;28;01mreturn\u001B[39;00m concatenate(expand_dims(arrays, axis \u001B[38;5;241m+\u001B[39m \u001B[38;5;241m1\u001B[39m), axis\u001B[38;5;241m=\u001B[39maxis, dtype\u001B[38;5;241m=\u001B[39mdtype)\n\u001B[1;32m   4479\u001B[0m \u001B[38;5;28;01melse\u001B[39;00m:\n\u001B[0;32m-> 4480\u001B[0m   \u001B[43mutil\u001B[49m\u001B[38;5;241;43m.\u001B[39;49m\u001B[43mcheck_arraylike\u001B[49m\u001B[43m(\u001B[49m\u001B[38;5;124;43m\"\u001B[39;49m\u001B[38;5;124;43mstack\u001B[39;49m\u001B[38;5;124;43m\"\u001B[39;49m\u001B[43m,\u001B[49m\u001B[43m \u001B[49m\u001B[38;5;241;43m*\u001B[39;49m\u001B[43marrays\u001B[49m\u001B[43m)\u001B[49m\n\u001B[1;32m   4481\u001B[0m   shape0 \u001B[38;5;241m=\u001B[39m np\u001B[38;5;241m.\u001B[39mshape(arrays[\u001B[38;5;241m0\u001B[39m])\n\u001B[1;32m   4482\u001B[0m   axis \u001B[38;5;241m=\u001B[39m _canonicalize_axis(axis, \u001B[38;5;28mlen\u001B[39m(shape0) \u001B[38;5;241m+\u001B[39m \u001B[38;5;241m1\u001B[39m)\n",
      "File \u001B[0;32m~/PycharmProjects/chromatix/.venv/lib/python3.11/site-packages/jax/_src/numpy/util.py:171\u001B[0m, in \u001B[0;36mcheck_arraylike\u001B[0;34m(fun_name, emit_warning, stacklevel, *args)\u001B[0m\n\u001B[1;32m    169\u001B[0m \u001B[38;5;250m\u001B[39m\u001B[38;5;124;03m\"\"\"Check if all args fit JAX's definition of arraylike.\"\"\"\u001B[39;00m\n\u001B[1;32m    170\u001B[0m \u001B[38;5;28;01massert\u001B[39;00m \u001B[38;5;28misinstance\u001B[39m(fun_name, \u001B[38;5;28mstr\u001B[39m), \u001B[38;5;124mf\u001B[39m\u001B[38;5;124m\"\u001B[39m\u001B[38;5;124mfun_name must be a string. Got \u001B[39m\u001B[38;5;132;01m{\u001B[39;00mfun_name\u001B[38;5;132;01m}\u001B[39;00m\u001B[38;5;124m\"\u001B[39m\n\u001B[0;32m--> 171\u001B[0m \u001B[38;5;28;01mif\u001B[39;00m \u001B[38;5;28;43many\u001B[39;49m\u001B[43m(\u001B[49m\u001B[38;5;129;43;01mnot\u001B[39;49;00m\u001B[43m \u001B[49m\u001B[43m_arraylike\u001B[49m\u001B[43m(\u001B[49m\u001B[43marg\u001B[49m\u001B[43m)\u001B[49m\u001B[43m \u001B[49m\u001B[38;5;28;43;01mfor\u001B[39;49;00m\u001B[43m \u001B[49m\u001B[43marg\u001B[49m\u001B[43m \u001B[49m\u001B[38;5;129;43;01min\u001B[39;49;00m\u001B[43m \u001B[49m\u001B[43margs\u001B[49m\u001B[43m)\u001B[49m:\n\u001B[1;32m    172\u001B[0m   pos, arg \u001B[38;5;241m=\u001B[39m \u001B[38;5;28mnext\u001B[39m((i, arg) \u001B[38;5;28;01mfor\u001B[39;00m i, arg \u001B[38;5;129;01min\u001B[39;00m \u001B[38;5;28menumerate\u001B[39m(args)\n\u001B[1;32m    173\u001B[0m                   \u001B[38;5;28;01mif\u001B[39;00m \u001B[38;5;129;01mnot\u001B[39;00m _arraylike(arg))\n\u001B[1;32m    174\u001B[0m   msg \u001B[38;5;241m=\u001B[39m \u001B[38;5;124mf\u001B[39m\u001B[38;5;124m\"\u001B[39m\u001B[38;5;132;01m{\u001B[39;00mfun_name\u001B[38;5;132;01m}\u001B[39;00m\u001B[38;5;124m requires ndarray or scalar arguments, got \u001B[39m\u001B[38;5;132;01m{\u001B[39;00m\u001B[38;5;28mtype\u001B[39m(arg)\u001B[38;5;132;01m}\u001B[39;00m\u001B[38;5;124m at position \u001B[39m\u001B[38;5;132;01m{\u001B[39;00mpos\u001B[38;5;132;01m}\u001B[39;00m\u001B[38;5;124m.\u001B[39m\u001B[38;5;124m\"\u001B[39m\n",
      "File \u001B[0;32m~/PycharmProjects/chromatix/.venv/lib/python3.11/site-packages/jax/_src/numpy/util.py:171\u001B[0m, in \u001B[0;36m<genexpr>\u001B[0;34m(.0)\u001B[0m\n\u001B[1;32m    169\u001B[0m \u001B[38;5;250m\u001B[39m\u001B[38;5;124;03m\"\"\"Check if all args fit JAX's definition of arraylike.\"\"\"\u001B[39;00m\n\u001B[1;32m    170\u001B[0m \u001B[38;5;28;01massert\u001B[39;00m \u001B[38;5;28misinstance\u001B[39m(fun_name, \u001B[38;5;28mstr\u001B[39m), \u001B[38;5;124mf\u001B[39m\u001B[38;5;124m\"\u001B[39m\u001B[38;5;124mfun_name must be a string. Got \u001B[39m\u001B[38;5;132;01m{\u001B[39;00mfun_name\u001B[38;5;132;01m}\u001B[39;00m\u001B[38;5;124m\"\u001B[39m\n\u001B[0;32m--> 171\u001B[0m \u001B[38;5;28;01mif\u001B[39;00m \u001B[38;5;28many\u001B[39m(\u001B[38;5;129;01mnot\u001B[39;00m \u001B[43m_arraylike\u001B[49m\u001B[43m(\u001B[49m\u001B[43marg\u001B[49m\u001B[43m)\u001B[49m \u001B[38;5;28;01mfor\u001B[39;00m arg \u001B[38;5;129;01min\u001B[39;00m args):\n\u001B[1;32m    172\u001B[0m   pos, arg \u001B[38;5;241m=\u001B[39m \u001B[38;5;28mnext\u001B[39m((i, arg) \u001B[38;5;28;01mfor\u001B[39;00m i, arg \u001B[38;5;129;01min\u001B[39;00m \u001B[38;5;28menumerate\u001B[39m(args)\n\u001B[1;32m    173\u001B[0m                   \u001B[38;5;28;01mif\u001B[39;00m \u001B[38;5;129;01mnot\u001B[39;00m _arraylike(arg))\n\u001B[1;32m    174\u001B[0m   msg \u001B[38;5;241m=\u001B[39m \u001B[38;5;124mf\u001B[39m\u001B[38;5;124m\"\u001B[39m\u001B[38;5;132;01m{\u001B[39;00mfun_name\u001B[38;5;132;01m}\u001B[39;00m\u001B[38;5;124m requires ndarray or scalar arguments, got \u001B[39m\u001B[38;5;132;01m{\u001B[39;00m\u001B[38;5;28mtype\u001B[39m(arg)\u001B[38;5;132;01m}\u001B[39;00m\u001B[38;5;124m at position \u001B[39m\u001B[38;5;132;01m{\u001B[39;00mpos\u001B[38;5;132;01m}\u001B[39;00m\u001B[38;5;124m.\u001B[39m\u001B[38;5;124m\"\u001B[39m\n",
      "File \u001B[0;32m~/PycharmProjects/chromatix/.venv/lib/python3.11/site-packages/jax/_src/numpy/util.py:130\u001B[0m, in \u001B[0;36m_arraylike\u001B[0;34m(x)\u001B[0m\n\u001B[1;32m    129\u001B[0m \u001B[38;5;28;01mdef\u001B[39;00m\u001B[38;5;250m \u001B[39m\u001B[38;5;21m_arraylike\u001B[39m(x: ArrayLike) \u001B[38;5;241m-\u001B[39m\u001B[38;5;241m>\u001B[39m \u001B[38;5;28mbool\u001B[39m:\n\u001B[0;32m--> 130\u001B[0m   \u001B[38;5;28;01mreturn\u001B[39;00m (\u001B[38;5;28misinstance\u001B[39m(x, np\u001B[38;5;241m.\u001B[39mndarray) \u001B[38;5;129;01mor\u001B[39;00m \u001B[38;5;28;43misinstance\u001B[39;49m\u001B[43m(\u001B[49m\u001B[43mx\u001B[49m\u001B[43m,\u001B[49m\u001B[43m \u001B[49m\u001B[43mArray\u001B[49m\u001B[43m)\u001B[49m \u001B[38;5;129;01mor\u001B[39;00m\n\u001B[1;32m    131\u001B[0m           \u001B[38;5;28mhasattr\u001B[39m(x, \u001B[38;5;124m'\u001B[39m\u001B[38;5;124m__jax_array__\u001B[39m\u001B[38;5;124m'\u001B[39m) \u001B[38;5;129;01mor\u001B[39;00m np\u001B[38;5;241m.\u001B[39misscalar(x))\n",
      "File \u001B[0;32m<frozen abc>:119\u001B[0m, in \u001B[0;36m__instancecheck__\u001B[0;34m(cls, instance)\u001B[0m\n",
      "File \u001B[0;32m<frozen abc>:121\u001B[0m, in \u001B[0;36m__subclasscheck__\u001B[0;34m(cls, subclass)\u001B[0m\n",
      "\u001B[0;31mKeyboardInterrupt\u001B[0m: "
     ]
    }
   ],
   "execution_count": 25
  },
  {
   "cell_type": "code",
   "id": "adc1537758f5ad8a",
   "metadata": {
    "ExecuteTime": {
     "end_time": "2025-03-05T15:01:01.870644Z",
     "start_time": "2025-03-05T15:01:01.838377Z"
    }
   },
   "source": [],
   "outputs": [],
   "execution_count": null
  }
 ],
 "metadata": {
  "kernelspec": {
   "display_name": ".venv",
   "language": "python",
   "name": "python3"
  },
  "language_info": {
   "codemirror_mode": {
    "name": "ipython",
    "version": 3
   },
   "file_extension": ".py",
   "mimetype": "text/x-python",
   "name": "python",
   "nbconvert_exporter": "python",
   "pygments_lexer": "ipython3",
   "version": "3.11.10"
  }
 },
 "nbformat": 4,
 "nbformat_minor": 5
}
