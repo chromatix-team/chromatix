{
 "cells": [
  {
   "cell_type": "markdown",
   "id": "297d0fcfc1ab08b9",
   "metadata": {},
   "source": "# High-NA vectorial PSF generation"
  },
  {
   "cell_type": "code",
   "id": "ca5d0faaa54691d1",
   "metadata": {
    "ExecuteTime": {
     "end_time": "2025-03-05T16:19:03.933626Z",
     "start_time": "2025-03-05T16:19:03.918085Z"
    }
   },
   "source": [
    "from typing import Optional, Tuple\n",
    "\n",
    "import flax.linen as nn\n",
    "import jax.numpy as jnp\n",
    "import matplotlib.pyplot as plt\n",
    "import numpy as np\n",
    "from flax.core import freeze, unfreeze\n",
    "from jax import random\n",
    "\n",
    "from chromatix.elements import (\n",
    "    FFLens,\n",
    "    GaussianSource,\n",
    "    ZernikeAberrations,\n",
    "    trainable,\n",
    ")\n",
    "from chromatix.ops import shot_noise\n",
    "\n",
    "key = random.PRNGKey(42)\n",
    "\n",
    "\n",
    "%load_ext autoreload\n",
    "%autoreload 2"
   ],
   "outputs": [
    {
     "name": "stdout",
     "output_type": "stream",
     "text": [
      "The autoreload extension is already loaded. To reload it, use:\n",
      "  %reload_ext autoreload\n"
     ]
    }
   ],
   "execution_count": 78
  },
  {
   "cell_type": "markdown",
   "id": "4c89509c183af0cd",
   "metadata": {},
   "source": [
    "## Incident field\n",
    "\n",
    "See the gaussian envelope element. "
   ]
  },
  {
   "cell_type": "markdown",
   "id": "1811037a92123f30",
   "metadata": {},
   "source": [
    "## Correction factors\n",
    "\n",
    "Not implemented for now, we use the Zernike aberrations."
   ]
  },
  {
   "cell_type": "markdown",
   "id": "a42e98ba2f5c0147",
   "metadata": {},
   "source": [
    "## Fourier transform\n",
    "\n",
    "Not needed for now, we will use FFLens()."
   ]
  },
  {
   "cell_type": "markdown",
   "id": "feb1736a5252c7f5",
   "metadata": {},
   "source": "## Putting stuff together"
  },
  {
   "cell_type": "code",
   "id": "99c90a0d2bdee290",
   "metadata": {
    "ExecuteTime": {
     "end_time": "2025-03-05T16:23:28.648248Z",
     "start_time": "2025-03-05T16:23:28.641564Z"
    }
   },
   "source": [
    "class ZernikePSF(nn.Module):\n",
    "    ansi_indices = np.arange(1, 11)\n",
    "    camera_shape: Tuple[int, int] = (256, 256)\n",
    "    camera_pixel_pitch: float = 0.125\n",
    "    f: float = 100\n",
    "    NA: float = 1.5\n",
    "    n: float = 1.33\n",
    "    wavelength: float = 0.532\n",
    "    wavelength_ratio: float = 1.0\n",
    "    upsample: int = 4\n",
    "    pad: int = 128\n",
    "    taper_width: Optional[float] = 5\n",
    "\n",
    "    @nn.compact\n",
    "    def __call__(self):\n",
    "        # Some preliminaries\n",
    "        shape = tuple(np.array(self.camera_shape) * self.upsample + self.pad)\n",
    "        spacing = (\n",
    "            self.upsample\n",
    "            * self.f\n",
    "            * self.wavelength\n",
    "            / (self.n * shape[0] * self.camera_pixel_pitch)\n",
    "        )\n",
    "\n",
    "        # Actual simulation\n",
    "        # The only learnable parameters are the Zernike coefficients (since we use the trainable flag)\n",
    "\n",
    "        field = GaussianSource(\n",
    "            shape,\n",
    "            spacing,\n",
    "            self.wavelength,\n",
    "            self.wavelength_ratio,\n",
    "            self.f,\n",
    "            self.n,\n",
    "            self.NA,\n",
    "            power=1e7,\n",
    "            amplitude=np.array([0.0, 0.0, 1.0]),\n",
    "            scalar=False,\n",
    "            envelope_waist=1,\n",
    "        )(z=0)\n",
    "\n",
    "        field = ZernikeAberrations(\n",
    "            trainable(jnp.zeros_like(self.ansi_indices, dtype=jnp.float32)),\n",
    "            self.f,\n",
    "            self.n,\n",
    "            self.NA,\n",
    "            self.ansi_indices,\n",
    "        )(field)\n",
    "\n",
    "        field = FFLens(self.f, self.n, self.NA)(field)\n",
    "        return field"
   ],
   "outputs": [],
   "execution_count": 98
  },
  {
   "cell_type": "code",
   "id": "33d9813bd04b7df9",
   "metadata": {
    "ExecuteTime": {
     "end_time": "2025-03-05T16:23:28.895719Z",
     "start_time": "2025-03-05T16:23:28.877734Z"
    }
   },
   "source": [
    "# model = ZernikePSF()\n",
    "# variables = model.init(key)\n",
    "# params, state = variables[\"params\"], variables[\"state\"]\n",
    "# del variables  # delete for memory\n",
    "# print(params)\n",
    "#\n",
    "# # Specify \"ground truth\" parameters for Zernike coefficients\n",
    "# coefficients_truth = jnp.array([0.0, 0.0, 0.0, 0.5, 0, 0, 0, 0, 0, 0])\n",
    "# params_true = unfreeze(params)\n",
    "# params_true[\"ZernikeAberrations_0\"][\"_coefficients\"] = coefficients_truth\n",
    "# params_true = freeze(params_true)\n",
    "# print(params_true)\n",
    "#\n",
    "#\n",
    "# field = model.apply({\"params\": params, \"state\": state})\n",
    "# field.shape"
   ],
   "outputs": [],
   "execution_count": 99
  },
  {
   "cell_type": "markdown",
   "id": "25c82578329700e",
   "metadata": {},
   "source": ""
  },
  {
   "cell_type": "code",
   "id": "a79fe18d2903ffce",
   "metadata": {
    "ExecuteTime": {
     "end_time": "2025-03-05T16:23:30.478759Z",
     "start_time": "2025-03-05T16:23:29.372279Z"
    }
   },
   "source": [
    "# Initialize model\n",
    "model = ZernikePSF()\n",
    "variables = model.init(key)\n",
    "params, state = variables[\"params\"], variables[\"state\"]\n",
    "del variables  # delete for memory\n",
    "\n",
    "# Specify \"ground truth\" parameters for Zernike coefficients\n",
    "coefficients_truth = jnp.array([0.0, 0.0, 0.0, 0, 0, 0, 0, 0, 0, 0])\n",
    "params_true = unfreeze(params)\n",
    "params_true[\"ZernikeAberrations_0\"][\"_coefficients\"] = coefficients_truth\n",
    "params_true = freeze(params_true)\n",
    "\n",
    "# Generating data\n",
    "psf_truth = model.apply({\"params\": params_true, \"state\": state})\n",
    "psf_truth = shot_noise(key, psf_truth.intensity)  # add shot noise\n",
    "# psf_truth = psf_truth.intensity\n",
    "# psf_truth = psf_truth.phase\n",
    "\n",
    "crop = 1000\n",
    "plt.figure(dpi=150)\n",
    "plt.imshow(psf_truth.squeeze(), cmap=\"afmhot\")\n",
    "plt.colorbar()\n",
    "plt.title(\"'Measured' PSF\")\n",
    "plt.axis(\"off\")\n",
    "plt.show()"
   ],
   "outputs": [
    {
     "name": "stdout",
     "output_type": "stream",
     "text": [
      "(1, 1152, 1152, 1, 1)\n",
      "(1, 1152, 1152, 1, 3)\n",
      "(1, 1152, 1152, 1, 3)\n",
      "(1, 1152, 1152, 1, 1)\n",
      "(1, 1152, 1152, 1, 3)\n",
      "(1, 1152, 1152, 1, 3)\n"
     ]
    },
    {
     "data": {
      "text/plain": [
       "<Figure size 960x720 with 2 Axes>"
      ],
      "image/png": "[encoded data removed]"
     },
     "metadata": {},
     "output_type": "display_data"
    }
   ],
   "execution_count": 100
  },
  {
   "cell_type": "code",
   "id": "adc1537758f5ad8a",
   "metadata": {
    "ExecuteTime": {
     "end_time": "2025-03-05T15:55:46.788445Z",
     "start_time": "2025-03-05T15:55:46.785949Z"
    }
   },
   "source": [],
   "outputs": [],
   "execution_count": null
  },
  {
   "metadata": {},
   "cell_type": "code",
   "outputs": [],
   "execution_count": null,
   "source": "",
   "id": "ec0d6be0e6fc261a"
  }
 ],
 "metadata": {
  "kernelspec": {
   "display_name": ".venv",
   "language": "python",
   "name": "python3"
  },
  "language_info": {
   "codemirror_mode": {
    "name": "ipython",
    "version": 3
   },
   "file_extension": ".py",
   "mimetype": "text/x-python",
   "name": "python",
   "nbconvert_exporter": "python",
   "pygments_lexer": "ipython3",
   "version": "3.11.10"
  }
 },
 "nbformat": 4,
 "nbformat_minor": 5
}
