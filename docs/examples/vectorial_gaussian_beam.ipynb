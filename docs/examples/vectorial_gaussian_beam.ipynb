{
 "cells": [
  {
   "cell_type": "code",
   "execution_count": 5,
   "id": "initial_id",
   "metadata": {
    "collapsed": true
   },
   "outputs": [
    {
     "name": "stdout",
     "output_type": "stream",
     "text": [
      "The autoreload extension is already loaded. To reload it, use:\n",
      "  %reload_ext autoreload\n"
     ]
    }
   ],
   "source": [
    "from typing import Optional, Tuple\n",
    "\n",
    "import flax.linen as nn\n",
    "import jax.numpy as jnp\n",
    "import matplotlib.pyplot as plt\n",
    "import numpy as np\n",
    "from flax.core import freeze, unfreeze\n",
    "from jax import random\n",
    "\n",
    "from chromatix.elements import (\n",
    "    FFLens,\n",
    "    ObjectivePointSource,\n",
    "    ZernikeAberrations,\n",
    "    trainable,\n",
    ")\n",
    "from chromatix.ops import shot_noise\n",
    "\n",
    "key = random.PRNGKey(42)\n",
    "\n",
    "%load_ext autoreload\n",
    "%autoreload 2"
   ]
  },
  {
   "cell_type": "code",
   "execution_count": 6,
   "id": "ec37e775",
   "metadata": {},
   "outputs": [],
   "source": [
    "class ZernikePSF(nn.Module):\n",
    "    ansi_indices = np.arange(1, 11)\n",
    "    camera_shape: Tuple[int, int] = (256, 256)\n",
    "    camera_pixel_pitch: float = 0.125\n",
    "    f: float = 100\n",
    "    NA: float = 0.8\n",
    "    n: float = 1.33\n",
    "    wavelength: float = 0.532\n",
    "    wavelength_ratio: float = 1.0\n",
    "    upsample: int = 4\n",
    "    pad: int = 128\n",
    "    taper_width: Optional[float] = 5\n",
    "\n",
    "    @nn.compact\n",
    "    def __call__(self):\n",
    "        # Some preliminaries\n",
    "        shape = tuple(np.array(self.camera_shape) * self.upsample + self.pad)\n",
    "        spacing = (\n",
    "            self.upsample\n",
    "            * self.f\n",
    "            * self.wavelength\n",
    "            / (self.n * shape[0] * self.camera_pixel_pitch)\n",
    "        )\n",
    "\n",
    "        # Actual simulation\n",
    "        # The only learnable parameters are the Zernike coefficients (since we use the trainable flag)\n",
    "        field = ObjectivePointSource(\n",
    "            shape,\n",
    "            spacing,\n",
    "            self.wavelength,\n",
    "            self.wavelength_ratio,\n",
    "            self.f,\n",
    "            self.n,\n",
    "            self.NA,\n",
    "            power=1e7,\n",
    "        )(z=0)\n",
    "\n",
    "        field = ZernikeAberrations(\n",
    "            trainable(jnp.zeros_like(self.ansi_indices, dtype=jnp.float32)),\n",
    "            self.f,\n",
    "            self.n,\n",
    "            self.NA,\n",
    "            self.ansi_indices,\n",
    "        )(field)\n",
    "\n",
    "        field = FFLens(self.f, self.n)(field)\n",
    "        return field"
   ]
  },
  {
   "cell_type": "code",
   "execution_count": 10,
   "id": "8d7ea507",
   "metadata": {},
   "outputs": [
    {
     "data": {
      "image/png": "[encoded data removed]",
      "text/plain": [
       "<Figure size 960x720 with 2 Axes>"
      ]
     },
     "metadata": {},
     "output_type": "display_data"
    }
   ],
   "source": [
    "# Initialize model\n",
    "model = ZernikePSF()\n",
    "variables = model.init(key)\n",
    "params, state = variables[\"params\"], variables[\"state\"]\n",
    "del variables  # delete for memory\n",
    "\n",
    "# Specify \"ground truth\" parameters for Zernike coefficients\n",
    "coefficients_truth = jnp.array([0.0, 0.0, 0.0, 0, 0, 0, 0, 0, 0, 0])\n",
    "params_true = unfreeze(params)\n",
    "params_true[\"ZernikeAberrations_0\"][\"_coefficients\"] = coefficients_truth\n",
    "params_true = freeze(params_true)\n",
    "\n",
    "# Generating data\n",
    "psf_truth = model.apply({\"params\": params_true, \"state\": state})\n",
    "psf_truth = shot_noise(key, psf_truth.intensity)  # add shot noise\n",
    "\n",
    "crop = 450\n",
    "plt.figure(dpi=150)\n",
    "plt.imshow(psf_truth.squeeze()[crop:-crop, crop:-crop], cmap=\"afmhot\")\n",
    "plt.colorbar()\n",
    "plt.title(\"'Measured' PSF\")\n",
    "plt.axis(\"off\")\n",
    "plt.show()"
   ]
  },
  {
   "cell_type": "code",
   "execution_count": null,
   "id": "05fb9d51",
   "metadata": {},
   "outputs": [],
   "source": []
  }
 ],
 "metadata": {
  "kernelspec": {
   "display_name": ".venv",
   "language": "python",
   "name": "python3"
  },
  "language_info": {
   "codemirror_mode": {
    "name": "ipython",
    "version": 3
   },
   "file_extension": ".py",
   "mimetype": "text/x-python",
   "name": "python",
   "nbconvert_exporter": "python",
   "pygments_lexer": "ipython3",
   "version": "3.11.10"
  }
 },
 "nbformat": 4,
 "nbformat_minor": 5
}
